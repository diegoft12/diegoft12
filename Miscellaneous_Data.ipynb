{
 "cells": [
  {
   "cell_type": "code",
   "execution_count": 1,
   "metadata": {},
   "outputs": [],
   "source": [
    "# Import libraries \n",
    "import numpy as np\n",
    "import pandas as pd\n",
    "import matplotlib.pyplot as plt"
   ]
  },
  {
   "cell_type": "code",
   "execution_count": 2,
   "metadata": {
    "scrolled": false
   },
   "outputs": [
    {
     "data": {
      "text/html": [
       "<div>\n",
       "<style scoped>\n",
       "    .dataframe tbody tr th:only-of-type {\n",
       "        vertical-align: middle;\n",
       "    }\n",
       "\n",
       "    .dataframe tbody tr th {\n",
       "        vertical-align: top;\n",
       "    }\n",
       "\n",
       "    .dataframe thead th {\n",
       "        text-align: right;\n",
       "    }\n",
       "</style>\n",
       "<table border=\"1\" class=\"dataframe\">\n",
       "  <thead>\n",
       "    <tr style=\"text-align: right;\">\n",
       "      <th></th>\n",
       "      <th>var0</th>\n",
       "      <th>var1</th>\n",
       "      <th>Var2</th>\n",
       "      <th>var3</th>\n",
       "      <th>var4</th>\n",
       "      <th>var5</th>\n",
       "      <th>var6</th>\n",
       "      <th>var7</th>\n",
       "      <th>var8</th>\n",
       "      <th>var9</th>\n",
       "      <th>var10</th>\n",
       "      <th>target</th>\n",
       "    </tr>\n",
       "  </thead>\n",
       "  <tbody>\n",
       "    <tr>\n",
       "      <td>0</td>\n",
       "      <td>6.0</td>\n",
       "      <td>0.24</td>\n",
       "      <td>0.27</td>\n",
       "      <td>1.9</td>\n",
       "      <td>0.048</td>\n",
       "      <td>40.0</td>\n",
       "      <td>170.0</td>\n",
       "      <td>0.99380</td>\n",
       "      <td>3.64</td>\n",
       "      <td>0.54</td>\n",
       "      <td>10.00</td>\n",
       "      <td>7.0</td>\n",
       "    </tr>\n",
       "    <tr>\n",
       "      <td>1</td>\n",
       "      <td>6.5</td>\n",
       "      <td>0.29</td>\n",
       "      <td>0.31</td>\n",
       "      <td>1.7</td>\n",
       "      <td>0.035</td>\n",
       "      <td>24.0</td>\n",
       "      <td>79.0</td>\n",
       "      <td>0.99053</td>\n",
       "      <td>3.27</td>\n",
       "      <td>0.69</td>\n",
       "      <td>11.40</td>\n",
       "      <td>7.0</td>\n",
       "    </tr>\n",
       "    <tr>\n",
       "      <td>2</td>\n",
       "      <td>5.3</td>\n",
       "      <td>0.40</td>\n",
       "      <td>0.25</td>\n",
       "      <td>3.9</td>\n",
       "      <td>0.031</td>\n",
       "      <td>45.0</td>\n",
       "      <td>130.0</td>\n",
       "      <td>0.99072</td>\n",
       "      <td>3.31</td>\n",
       "      <td>0.58</td>\n",
       "      <td>11.75</td>\n",
       "      <td>7.0</td>\n",
       "    </tr>\n",
       "    <tr>\n",
       "      <td>3</td>\n",
       "      <td>8.3</td>\n",
       "      <td>0.20</td>\n",
       "      <td>0.49</td>\n",
       "      <td>1.7</td>\n",
       "      <td>0.038</td>\n",
       "      <td>38.0</td>\n",
       "      <td>167.0</td>\n",
       "      <td>0.99390</td>\n",
       "      <td>3.05</td>\n",
       "      <td>0.37</td>\n",
       "      <td>10.10</td>\n",
       "      <td>6.0</td>\n",
       "    </tr>\n",
       "    <tr>\n",
       "      <td>4</td>\n",
       "      <td>6.9</td>\n",
       "      <td>0.19</td>\n",
       "      <td>0.35</td>\n",
       "      <td>13.5</td>\n",
       "      <td>0.038</td>\n",
       "      <td>49.0</td>\n",
       "      <td>118.0</td>\n",
       "      <td>0.99546</td>\n",
       "      <td>3.00</td>\n",
       "      <td>0.63</td>\n",
       "      <td>10.70</td>\n",
       "      <td>6.0</td>\n",
       "    </tr>\n",
       "  </tbody>\n",
       "</table>\n",
       "</div>"
      ],
      "text/plain": [
       "   var0  var1  Var2  var3   var4  var5   var6     var7  var8  var9  var10  \\\n",
       "0   6.0  0.24  0.27   1.9  0.048  40.0  170.0  0.99380  3.64  0.54  10.00   \n",
       "1   6.5  0.29  0.31   1.7  0.035  24.0   79.0  0.99053  3.27  0.69  11.40   \n",
       "2   5.3  0.40  0.25   3.9  0.031  45.0  130.0  0.99072  3.31  0.58  11.75   \n",
       "3   8.3  0.20  0.49   1.7  0.038  38.0  167.0  0.99390  3.05  0.37  10.10   \n",
       "4   6.9  0.19  0.35  13.5  0.038  49.0  118.0  0.99546  3.00  0.63  10.70   \n",
       "\n",
       "   target  \n",
       "0     7.0  \n",
       "1     7.0  \n",
       "2     7.0  \n",
       "3     6.0  \n",
       "4     6.0  "
      ]
     },
     "execution_count": 2,
     "metadata": {},
     "output_type": "execute_result"
    }
   ],
   "source": [
    "# Load data\n",
    "data = pd.read_csv('data.csv')\n",
    "data.head()"
   ]
  },
  {
   "cell_type": "markdown",
   "metadata": {},
   "source": [
    "### Cleaning Data"
   ]
  },
  {
   "cell_type": "code",
   "execution_count": 3,
   "metadata": {},
   "outputs": [
    {
     "name": "stdout",
     "output_type": "stream",
     "text": [
      "<class 'pandas.core.frame.DataFrame'>\n",
      "RangeIndex: 3898 entries, 0 to 3897\n",
      "Data columns (total 12 columns):\n",
      "var0      3898 non-null float64\n",
      "var1      3898 non-null float64\n",
      "Var2      3898 non-null float64\n",
      "var3      3898 non-null float64\n",
      "var4      3898 non-null float64\n",
      "var5      3898 non-null object\n",
      "var6      3898 non-null float64\n",
      "var7      3898 non-null float64\n",
      "var8      3896 non-null float64\n",
      "var9      3898 non-null float64\n",
      "var10     3898 non-null float64\n",
      "target    3897 non-null float64\n",
      "dtypes: float64(11), object(1)\n",
      "memory usage: 365.6+ KB\n"
     ]
    }
   ],
   "source": [
    "# Type of columns\n",
    "data.info()"
   ]
  },
  {
   "cell_type": "markdown",
   "metadata": {},
   "source": [
    "By looking the data, we observe the following:\n",
    "- The column var5 is object type but actually has numeric values.\n",
    "- Var8 and target does not have as many observations as the others."
   ]
  },
  {
   "cell_type": "code",
   "execution_count": 4,
   "metadata": {},
   "outputs": [
    {
     "data": {
      "text/html": [
       "<div>\n",
       "<style scoped>\n",
       "    .dataframe tbody tr th:only-of-type {\n",
       "        vertical-align: middle;\n",
       "    }\n",
       "\n",
       "    .dataframe tbody tr th {\n",
       "        vertical-align: top;\n",
       "    }\n",
       "\n",
       "    .dataframe thead th {\n",
       "        text-align: right;\n",
       "    }\n",
       "</style>\n",
       "<table border=\"1\" class=\"dataframe\">\n",
       "  <thead>\n",
       "    <tr style=\"text-align: right;\">\n",
       "      <th></th>\n",
       "      <th>var0</th>\n",
       "      <th>var1</th>\n",
       "      <th>Var2</th>\n",
       "      <th>var3</th>\n",
       "      <th>var4</th>\n",
       "      <th>var5</th>\n",
       "      <th>var6</th>\n",
       "      <th>var7</th>\n",
       "      <th>var8</th>\n",
       "      <th>var9</th>\n",
       "      <th>var10</th>\n",
       "      <th>target</th>\n",
       "    </tr>\n",
       "  </thead>\n",
       "  <tbody>\n",
       "    <tr>\n",
       "      <td>count</td>\n",
       "      <td>3898.000000</td>\n",
       "      <td>3898.000000</td>\n",
       "      <td>3898.0000</td>\n",
       "      <td>3898.000000</td>\n",
       "      <td>3898.000000</td>\n",
       "      <td>3896.000000</td>\n",
       "      <td>3898.000000</td>\n",
       "      <td>3898.000000</td>\n",
       "      <td>3896.000000</td>\n",
       "      <td>3898.000000</td>\n",
       "      <td>3898.000000</td>\n",
       "      <td>3897.000000</td>\n",
       "    </tr>\n",
       "    <tr>\n",
       "      <td>mean</td>\n",
       "      <td>6.857478</td>\n",
       "      <td>0.277378</td>\n",
       "      <td>0.3341</td>\n",
       "      <td>6.405028</td>\n",
       "      <td>0.045759</td>\n",
       "      <td>35.439682</td>\n",
       "      <td>138.313109</td>\n",
       "      <td>0.994045</td>\n",
       "      <td>3.188475</td>\n",
       "      <td>0.488982</td>\n",
       "      <td>10.506904</td>\n",
       "      <td>5.877342</td>\n",
       "    </tr>\n",
       "    <tr>\n",
       "      <td>std</td>\n",
       "      <td>0.862851</td>\n",
       "      <td>0.099444</td>\n",
       "      <td>0.1212</td>\n",
       "      <td>5.097639</td>\n",
       "      <td>0.021422</td>\n",
       "      <td>17.113851</td>\n",
       "      <td>42.446527</td>\n",
       "      <td>0.003007</td>\n",
       "      <td>0.152692</td>\n",
       "      <td>0.113755</td>\n",
       "      <td>1.225731</td>\n",
       "      <td>0.896229</td>\n",
       "    </tr>\n",
       "    <tr>\n",
       "      <td>min</td>\n",
       "      <td>-1.000000</td>\n",
       "      <td>0.080000</td>\n",
       "      <td>0.0000</td>\n",
       "      <td>-2.000000</td>\n",
       "      <td>0.009000</td>\n",
       "      <td>2.000000</td>\n",
       "      <td>9.000000</td>\n",
       "      <td>0.987110</td>\n",
       "      <td>2.720000</td>\n",
       "      <td>0.220000</td>\n",
       "      <td>8.000000</td>\n",
       "      <td>-1.000000</td>\n",
       "    </tr>\n",
       "    <tr>\n",
       "      <td>25%</td>\n",
       "      <td>6.300000</td>\n",
       "      <td>0.210000</td>\n",
       "      <td>0.2700</td>\n",
       "      <td>1.700000</td>\n",
       "      <td>0.036000</td>\n",
       "      <td>24.000000</td>\n",
       "      <td>108.000000</td>\n",
       "      <td>0.991740</td>\n",
       "      <td>3.080000</td>\n",
       "      <td>0.410000</td>\n",
       "      <td>9.500000</td>\n",
       "      <td>5.000000</td>\n",
       "    </tr>\n",
       "    <tr>\n",
       "      <td>50%</td>\n",
       "      <td>6.800000</td>\n",
       "      <td>0.260000</td>\n",
       "      <td>0.3200</td>\n",
       "      <td>5.200000</td>\n",
       "      <td>0.043000</td>\n",
       "      <td>34.000000</td>\n",
       "      <td>134.000000</td>\n",
       "      <td>0.993740</td>\n",
       "      <td>3.180000</td>\n",
       "      <td>0.470000</td>\n",
       "      <td>10.400000</td>\n",
       "      <td>6.000000</td>\n",
       "    </tr>\n",
       "    <tr>\n",
       "      <td>75%</td>\n",
       "      <td>7.300000</td>\n",
       "      <td>0.320000</td>\n",
       "      <td>0.3900</td>\n",
       "      <td>9.900000</td>\n",
       "      <td>0.050000</td>\n",
       "      <td>46.000000</td>\n",
       "      <td>167.000000</td>\n",
       "      <td>0.996120</td>\n",
       "      <td>3.280000</td>\n",
       "      <td>0.550000</td>\n",
       "      <td>11.400000</td>\n",
       "      <td>6.000000</td>\n",
       "    </tr>\n",
       "    <tr>\n",
       "      <td>max</td>\n",
       "      <td>14.200000</td>\n",
       "      <td>1.100000</td>\n",
       "      <td>1.6600</td>\n",
       "      <td>65.800000</td>\n",
       "      <td>0.346000</td>\n",
       "      <td>289.000000</td>\n",
       "      <td>440.000000</td>\n",
       "      <td>1.038980</td>\n",
       "      <td>3.820000</td>\n",
       "      <td>1.080000</td>\n",
       "      <td>14.200000</td>\n",
       "      <td>11.000000</td>\n",
       "    </tr>\n",
       "  </tbody>\n",
       "</table>\n",
       "</div>"
      ],
      "text/plain": [
       "              var0         var1       Var2         var3         var4  \\\n",
       "count  3898.000000  3898.000000  3898.0000  3898.000000  3898.000000   \n",
       "mean      6.857478     0.277378     0.3341     6.405028     0.045759   \n",
       "std       0.862851     0.099444     0.1212     5.097639     0.021422   \n",
       "min      -1.000000     0.080000     0.0000    -2.000000     0.009000   \n",
       "25%       6.300000     0.210000     0.2700     1.700000     0.036000   \n",
       "50%       6.800000     0.260000     0.3200     5.200000     0.043000   \n",
       "75%       7.300000     0.320000     0.3900     9.900000     0.050000   \n",
       "max      14.200000     1.100000     1.6600    65.800000     0.346000   \n",
       "\n",
       "              var5         var6         var7         var8         var9  \\\n",
       "count  3896.000000  3898.000000  3898.000000  3896.000000  3898.000000   \n",
       "mean     35.439682   138.313109     0.994045     3.188475     0.488982   \n",
       "std      17.113851    42.446527     0.003007     0.152692     0.113755   \n",
       "min       2.000000     9.000000     0.987110     2.720000     0.220000   \n",
       "25%      24.000000   108.000000     0.991740     3.080000     0.410000   \n",
       "50%      34.000000   134.000000     0.993740     3.180000     0.470000   \n",
       "75%      46.000000   167.000000     0.996120     3.280000     0.550000   \n",
       "max     289.000000   440.000000     1.038980     3.820000     1.080000   \n",
       "\n",
       "             var10       target  \n",
       "count  3898.000000  3897.000000  \n",
       "mean     10.506904     5.877342  \n",
       "std       1.225731     0.896229  \n",
       "min       8.000000    -1.000000  \n",
       "25%       9.500000     5.000000  \n",
       "50%      10.400000     6.000000  \n",
       "75%      11.400000     6.000000  \n",
       "max      14.200000    11.000000  "
      ]
     },
     "execution_count": 4,
     "metadata": {},
     "output_type": "execute_result"
    }
   ],
   "source": [
    "# Transform var 5 into numeric\n",
    "data['var5'] = pd.to_numeric(data['var5'], errors = 'coerce')\n",
    "\n",
    "data.describe()"
   ]
  },
  {
   "cell_type": "code",
   "execution_count": 5,
   "metadata": {},
   "outputs": [
    {
     "data": {
      "text/html": [
       "<div>\n",
       "<style scoped>\n",
       "    .dataframe tbody tr th:only-of-type {\n",
       "        vertical-align: middle;\n",
       "    }\n",
       "\n",
       "    .dataframe tbody tr th {\n",
       "        vertical-align: top;\n",
       "    }\n",
       "\n",
       "    .dataframe thead th {\n",
       "        text-align: right;\n",
       "    }\n",
       "</style>\n",
       "<table border=\"1\" class=\"dataframe\">\n",
       "  <thead>\n",
       "    <tr style=\"text-align: right;\">\n",
       "      <th></th>\n",
       "      <th>var0</th>\n",
       "      <th>var1</th>\n",
       "      <th>Var2</th>\n",
       "      <th>var3</th>\n",
       "      <th>var4</th>\n",
       "      <th>var5</th>\n",
       "      <th>var6</th>\n",
       "      <th>var7</th>\n",
       "      <th>var8</th>\n",
       "      <th>var9</th>\n",
       "      <th>var10</th>\n",
       "      <th>target</th>\n",
       "    </tr>\n",
       "  </thead>\n",
       "  <tbody>\n",
       "    <tr>\n",
       "      <td># of missing values</td>\n",
       "      <td>0</td>\n",
       "      <td>0</td>\n",
       "      <td>0</td>\n",
       "      <td>0</td>\n",
       "      <td>0</td>\n",
       "      <td>2</td>\n",
       "      <td>0</td>\n",
       "      <td>0</td>\n",
       "      <td>2</td>\n",
       "      <td>0</td>\n",
       "      <td>0</td>\n",
       "      <td>1</td>\n",
       "    </tr>\n",
       "  </tbody>\n",
       "</table>\n",
       "</div>"
      ],
      "text/plain": [
       "                     var0  var1  Var2  var3  var4  var5  var6  var7  var8  \\\n",
       "# of missing values     0     0     0     0     0     2     0     0     2   \n",
       "\n",
       "                     var9  var10  target  \n",
       "# of missing values     0      0       1  "
      ]
     },
     "execution_count": 5,
     "metadata": {},
     "output_type": "execute_result"
    }
   ],
   "source": [
    "# Missing values?\n",
    "data.isnull().sum().to_frame(name = \"# of missing values\").T"
   ]
  },
  {
   "cell_type": "markdown",
   "metadata": {},
   "source": [
    "There are **5 missing values** in total located in var5, var8 and target\n",
    "\n",
    "Since tha missing values cases represent a tiny proportion of total cases (< 1%), we can omit them and continue."
   ]
  },
  {
   "cell_type": "code",
   "execution_count": 6,
   "metadata": {},
   "outputs": [
    {
     "name": "stdout",
     "output_type": "stream",
     "text": [
      "var0      False\n",
      "var1      False\n",
      "Var2      False\n",
      "var3      False\n",
      "var4      False\n",
      "var5      False\n",
      "var6      False\n",
      "var7      False\n",
      "var8      False\n",
      "var9      False\n",
      "var10     False\n",
      "target    False\n",
      "dtype: bool\n"
     ]
    }
   ],
   "source": [
    "# Store missing values for a posible next investigation\n",
    "row_na = data[data.isna().any(axis=1)]\n",
    "\n",
    "# Omit missing values\n",
    "clean_data = data.dropna()\n",
    "print(clean_data.isna().any()) # No missing values"
   ]
  },
  {
   "cell_type": "markdown",
   "metadata": {},
   "source": [
    "### Variable Distribution"
   ]
  },
  {
   "cell_type": "code",
   "execution_count": 7,
   "metadata": {},
   "outputs": [
    {
     "data": {
      "text/plain": [
       "array([[<matplotlib.axes._subplots.AxesSubplot object at 0x000002A77C22FF08>,\n",
       "        <matplotlib.axes._subplots.AxesSubplot object at 0x000002A77C4CFB08>,\n",
       "        <matplotlib.axes._subplots.AxesSubplot object at 0x000002A77C50D448>],\n",
       "       [<matplotlib.axes._subplots.AxesSubplot object at 0x000002A77C543548>,\n",
       "        <matplotlib.axes._subplots.AxesSubplot object at 0x000002A77C57D608>,\n",
       "        <matplotlib.axes._subplots.AxesSubplot object at 0x000002A77C5B6708>],\n",
       "       [<matplotlib.axes._subplots.AxesSubplot object at 0x000002A77C5EC808>,\n",
       "        <matplotlib.axes._subplots.AxesSubplot object at 0x000002A77C626948>,\n",
       "        <matplotlib.axes._subplots.AxesSubplot object at 0x000002A77C630548>],\n",
       "       [<matplotlib.axes._subplots.AxesSubplot object at 0x000002A77C668708>,\n",
       "        <matplotlib.axes._subplots.AxesSubplot object at 0x000002A77C6CDC48>,\n",
       "        <matplotlib.axes._subplots.AxesSubplot object at 0x000002A77C704D88>]],\n",
       "      dtype=object)"
      ]
     },
     "execution_count": 7,
     "metadata": {},
     "output_type": "execute_result"
    },
    {
     "data": {
      "image/png": "[encoded data removed]",
      "text/plain": [
       "<Figure size 1440x1440 with 12 Axes>"
      ]
     },
     "metadata": {
      "needs_background": "light"
     },
     "output_type": "display_data"
    }
   ],
   "source": [
    "# Data Visualization - Histogram\n",
    "clean_data.hist(figsize=(20,20), color=\"#44B1B1\") # Distribucion anormal?"
   ]
  },
  {
   "cell_type": "code",
   "execution_count": 8,
   "metadata": {},
   "outputs": [
    {
     "data": {
      "text/plain": [
       "<matplotlib.axes._subplots.AxesSubplot at 0x2a77d205948>"
      ]
     },
     "execution_count": 8,
     "metadata": {},
     "output_type": "execute_result"
    },
    {
     "data": {
      "image/png": "[encoded data removed]",
      "text/plain": [
       "<Figure size 1440x1440 with 1 Axes>"
      ]
     },
     "metadata": {
      "needs_background": "light"
     },
     "output_type": "display_data"
    }
   ],
   "source": [
    "# Data Visualization - Box plot\n",
    "clean_data.boxplot(figsize=(20,20)) # Variables con muchos outliers y diferentes escalas"
   ]
  },
  {
   "cell_type": "code",
   "execution_count": 9,
   "metadata": {},
   "outputs": [
    {
     "data": {
      "text/plain": [
       "<matplotlib.axes._subplots.AxesSubplot at 0x2a77c9c70c8>"
      ]
     },
     "execution_count": 9,
     "metadata": {},
     "output_type": "execute_result"
    },
    {
     "data": {
      "image/png": "[encoded data removed]",
      "text/plain": [
       "<Figure size 432x288 with 1 Axes>"
      ]
     },
     "metadata": {
      "needs_background": "light"
     },
     "output_type": "display_data"
    }
   ],
   "source": [
    "# Analyze variable target\n",
    "clean_data['target'].value_counts().sort_index()\n",
    "clean_data.plot(y = 'target', kind = 'box') #valores -1 y 11 outliers"
   ]
  },
  {
   "cell_type": "code",
   "execution_count": 10,
   "metadata": {},
   "outputs": [
    {
     "data": {
      "text/plain": [
       "<matplotlib.axes._subplots.AxesSubplot at 0x2a77cf53b48>"
      ]
     },
     "execution_count": 10,
     "metadata": {},
     "output_type": "execute_result"
    },
    {
     "data": {
      "image/png": "[encoded data removed]",
      "text/plain": [
       "<Figure size 432x288 with 1 Axes>"
      ]
     },
     "metadata": {
      "needs_background": "light"
     },
     "output_type": "display_data"
    }
   ],
   "source": [
    "# Analyze variable var0\n",
    "clean_data.plot(y = 'var0', kind = 'box') #valor negativo outlier"
   ]
  },
  {
   "cell_type": "code",
   "execution_count": 11,
   "metadata": {},
   "outputs": [
    {
     "data": {
      "text/plain": [
       "(3890, 12)"
      ]
     },
     "execution_count": 11,
     "metadata": {},
     "output_type": "execute_result"
    }
   ],
   "source": [
    "# Store outlier cases for possible next investigation\n",
    "row_outlier = data[(data['target'] < 0) | (data['target'] > 10) | (data['var0'] < 0)]\n",
    "\n",
    "# Remove outliers\n",
    "clean_data = clean_data.drop(row_outlier.index)\n",
    "clean_data.shape # Clean_data: 3890 observations"
   ]
  },
  {
   "cell_type": "code",
   "execution_count": 12,
   "metadata": {},
   "outputs": [
    {
     "name": "stdout",
     "output_type": "stream",
     "text": [
      "Hay evidencia de No-Normalidad en la distribucion de la variable var0\n",
      "Hay evidencia de No-Normalidad en la distribucion de la variable var1\n",
      "Hay evidencia de No-Normalidad en la distribucion de la variable Var2\n",
      "Hay evidencia de No-Normalidad en la distribucion de la variable var3\n",
      "Hay evidencia de No-Normalidad en la distribucion de la variable var4\n",
      "Hay evidencia de No-Normalidad en la distribucion de la variable var5\n",
      "Hay evidencia de No-Normalidad en la distribucion de la variable var6\n",
      "Hay evidencia de No-Normalidad en la distribucion de la variable var7\n",
      "Hay evidencia de No-Normalidad en la distribucion de la variable var8\n",
      "Hay evidencia de No-Normalidad en la distribucion de la variable var9\n",
      "Hay evidencia de No-Normalidad en la distribucion de la variable var10\n",
      "Hay evidencia de No-Normalidad en la distribucion de la variable target\n"
     ]
    }
   ],
   "source": [
    "# Normal distribution\n",
    "from scipy import stats\n",
    "\n",
    "def normality_test(data):\n",
    "    for i in data.columns:\n",
    "        v, p = stats.shapiro(data[i])\n",
    "        if p < .05:\n",
    "            print('Hay evidencia de No-Normalidad en la distribucion de la variable ' + str(i) )\n",
    "        else:\n",
    "            print('Hay evidencia de Normalidad en la distribucion de la variable ' + str(i) )\n",
    "\n",
    "normality_test(clean_data)"
   ]
  },
  {
   "cell_type": "code",
   "execution_count": 13,
   "metadata": {},
   "outputs": [
    {
     "name": "stdout",
     "output_type": "stream",
     "text": [
      "Hay evidencia de No-Normalidad en la distribucion de la variable var0\n",
      "Hay evidencia de No-Normalidad en la distribucion de la variable var1\n",
      "Hay evidencia de No-Normalidad en la distribucion de la variable Var2\n",
      "Hay evidencia de No-Normalidad en la distribucion de la variable var3\n",
      "Hay evidencia de No-Normalidad en la distribucion de la variable var4\n",
      "Hay evidencia de No-Normalidad en la distribucion de la variable var5\n",
      "Hay evidencia de No-Normalidad en la distribucion de la variable var6\n",
      "Hay evidencia de No-Normalidad en la distribucion de la variable var7\n",
      "Hay evidencia de No-Normalidad en la distribucion de la variable var8\n",
      "Hay evidencia de No-Normalidad en la distribucion de la variable var9\n",
      "Hay evidencia de No-Normalidad en la distribucion de la variable var10\n",
      "Hay evidencia de No-Normalidad en la distribucion de la variable target\n"
     ]
    }
   ],
   "source": [
    "# Box Cox transformation: Logarithmic transformation\n",
    "def log_data(data):\n",
    "    log_data = dict()\n",
    "    for i in data.columns:\n",
    "        log_data[i] = clean_data[i].apply(lambda x: np.log(x+1)) #log(x+1) para el posible caso de x = 0\n",
    "    log_data = pd.DataFrame(log_data)\n",
    "    return log_data\n",
    "                    \n",
    "log_data = log_data(clean_data)\n",
    "\n",
    "# Normal distribution for transformed variables?\n",
    "normality_test(log_data)"
   ]
  },
  {
   "cell_type": "markdown",
   "metadata": {},
   "source": [
    "Transformed variables do not have normal distribution either. So, we can not use linear regression model in the upcoming part of comparing models.\n",
    "\n",
    "Before we decide which models to use, let's see correlation between variables and we will use Spearman Method because it works better for no-normality scenarios."
   ]
  },
  {
   "cell_type": "code",
   "execution_count": 14,
   "metadata": {},
   "outputs": [
    {
     "data": {
      "text/html": [
       "<div>\n",
       "<style scoped>\n",
       "    .dataframe tbody tr th:only-of-type {\n",
       "        vertical-align: middle;\n",
       "    }\n",
       "\n",
       "    .dataframe tbody tr th {\n",
       "        vertical-align: top;\n",
       "    }\n",
       "\n",
       "    .dataframe thead th {\n",
       "        text-align: right;\n",
       "    }\n",
       "</style>\n",
       "<table border=\"1\" class=\"dataframe\">\n",
       "  <thead>\n",
       "    <tr style=\"text-align: right;\">\n",
       "      <th></th>\n",
       "      <th>var0</th>\n",
       "      <th>var1</th>\n",
       "      <th>Var2</th>\n",
       "      <th>var3</th>\n",
       "      <th>var4</th>\n",
       "      <th>var5</th>\n",
       "      <th>var6</th>\n",
       "      <th>var7</th>\n",
       "      <th>var8</th>\n",
       "      <th>var9</th>\n",
       "      <th>var10</th>\n",
       "      <th>target</th>\n",
       "    </tr>\n",
       "  </thead>\n",
       "  <tbody>\n",
       "    <tr>\n",
       "      <td>var0</td>\n",
       "      <td>1.000000</td>\n",
       "      <td>-0.043595</td>\n",
       "      <td>0.310612</td>\n",
       "      <td>0.113845</td>\n",
       "      <td>0.090656</td>\n",
       "      <td>-0.020100</td>\n",
       "      <td>0.122949</td>\n",
       "      <td>0.276470</td>\n",
       "      <td>-0.415853</td>\n",
       "      <td>-0.009104</td>\n",
       "      <td>-0.107499</td>\n",
       "      <td>-0.080753</td>\n",
       "    </tr>\n",
       "    <tr>\n",
       "      <td>var1</td>\n",
       "      <td>-0.043595</td>\n",
       "      <td>1.000000</td>\n",
       "      <td>-0.151242</td>\n",
       "      <td>0.103513</td>\n",
       "      <td>-0.005105</td>\n",
       "      <td>-0.088287</td>\n",
       "      <td>0.111127</td>\n",
       "      <td>0.010752</td>\n",
       "      <td>-0.040198</td>\n",
       "      <td>-0.023226</td>\n",
       "      <td>0.029614</td>\n",
       "      <td>-0.201873</td>\n",
       "    </tr>\n",
       "    <tr>\n",
       "      <td>Var2</td>\n",
       "      <td>0.310612</td>\n",
       "      <td>-0.151242</td>\n",
       "      <td>1.000000</td>\n",
       "      <td>0.037740</td>\n",
       "      <td>0.046724</td>\n",
       "      <td>0.089104</td>\n",
       "      <td>0.099397</td>\n",
       "      <td>0.106089</td>\n",
       "      <td>-0.152966</td>\n",
       "      <td>0.085754</td>\n",
       "      <td>-0.039812</td>\n",
       "      <td>0.022312</td>\n",
       "    </tr>\n",
       "    <tr>\n",
       "      <td>var3</td>\n",
       "      <td>0.113845</td>\n",
       "      <td>0.103513</td>\n",
       "      <td>0.037740</td>\n",
       "      <td>1.000000</td>\n",
       "      <td>0.220064</td>\n",
       "      <td>0.348024</td>\n",
       "      <td>0.427588</td>\n",
       "      <td>0.779294</td>\n",
       "      <td>-0.184145</td>\n",
       "      <td>-0.003464</td>\n",
       "      <td>-0.441356</td>\n",
       "      <td>-0.074509</td>\n",
       "    </tr>\n",
       "    <tr>\n",
       "      <td>var4</td>\n",
       "      <td>0.090656</td>\n",
       "      <td>-0.005105</td>\n",
       "      <td>0.046724</td>\n",
       "      <td>0.220064</td>\n",
       "      <td>1.000000</td>\n",
       "      <td>0.163222</td>\n",
       "      <td>0.368790</td>\n",
       "      <td>0.502299</td>\n",
       "      <td>-0.051775</td>\n",
       "      <td>0.095023</td>\n",
       "      <td>-0.566504</td>\n",
       "      <td>-0.319449</td>\n",
       "    </tr>\n",
       "    <tr>\n",
       "      <td>var5</td>\n",
       "      <td>-0.020100</td>\n",
       "      <td>-0.088287</td>\n",
       "      <td>0.089104</td>\n",
       "      <td>0.348024</td>\n",
       "      <td>0.163222</td>\n",
       "      <td>1.000000</td>\n",
       "      <td>0.613985</td>\n",
       "      <td>0.325797</td>\n",
       "      <td>-0.014189</td>\n",
       "      <td>0.038061</td>\n",
       "      <td>-0.272832</td>\n",
       "      <td>0.031212</td>\n",
       "    </tr>\n",
       "    <tr>\n",
       "      <td>var6</td>\n",
       "      <td>0.122949</td>\n",
       "      <td>0.111127</td>\n",
       "      <td>0.099397</td>\n",
       "      <td>0.427588</td>\n",
       "      <td>0.368790</td>\n",
       "      <td>0.613985</td>\n",
       "      <td>1.000000</td>\n",
       "      <td>0.567934</td>\n",
       "      <td>-0.016702</td>\n",
       "      <td>0.146378</td>\n",
       "      <td>-0.483298</td>\n",
       "      <td>-0.194248</td>\n",
       "    </tr>\n",
       "    <tr>\n",
       "      <td>var7</td>\n",
       "      <td>0.276470</td>\n",
       "      <td>0.010752</td>\n",
       "      <td>0.106089</td>\n",
       "      <td>0.779294</td>\n",
       "      <td>0.502299</td>\n",
       "      <td>0.325797</td>\n",
       "      <td>0.567934</td>\n",
       "      <td>1.000000</td>\n",
       "      <td>-0.116830</td>\n",
       "      <td>0.097417</td>\n",
       "      <td>-0.819171</td>\n",
       "      <td>-0.345403</td>\n",
       "    </tr>\n",
       "    <tr>\n",
       "      <td>var8</td>\n",
       "      <td>-0.415853</td>\n",
       "      <td>-0.040198</td>\n",
       "      <td>-0.152966</td>\n",
       "      <td>-0.184145</td>\n",
       "      <td>-0.051775</td>\n",
       "      <td>-0.014189</td>\n",
       "      <td>-0.016702</td>\n",
       "      <td>-0.116830</td>\n",
       "      <td>1.000000</td>\n",
       "      <td>0.139822</td>\n",
       "      <td>0.155667</td>\n",
       "      <td>0.115526</td>\n",
       "    </tr>\n",
       "    <tr>\n",
       "      <td>var9</td>\n",
       "      <td>-0.009104</td>\n",
       "      <td>-0.023226</td>\n",
       "      <td>0.085754</td>\n",
       "      <td>-0.003464</td>\n",
       "      <td>0.095023</td>\n",
       "      <td>0.038061</td>\n",
       "      <td>0.146378</td>\n",
       "      <td>0.097417</td>\n",
       "      <td>0.139822</td>\n",
       "      <td>1.000000</td>\n",
       "      <td>-0.048303</td>\n",
       "      <td>0.037359</td>\n",
       "    </tr>\n",
       "    <tr>\n",
       "      <td>var10</td>\n",
       "      <td>-0.107499</td>\n",
       "      <td>0.029614</td>\n",
       "      <td>-0.039812</td>\n",
       "      <td>-0.441356</td>\n",
       "      <td>-0.566504</td>\n",
       "      <td>-0.272832</td>\n",
       "      <td>-0.483298</td>\n",
       "      <td>-0.819171</td>\n",
       "      <td>0.155667</td>\n",
       "      <td>-0.048303</td>\n",
       "      <td>1.000000</td>\n",
       "      <td>0.441325</td>\n",
       "    </tr>\n",
       "    <tr>\n",
       "      <td>target</td>\n",
       "      <td>-0.080753</td>\n",
       "      <td>-0.201873</td>\n",
       "      <td>0.022312</td>\n",
       "      <td>-0.074509</td>\n",
       "      <td>-0.319449</td>\n",
       "      <td>0.031212</td>\n",
       "      <td>-0.194248</td>\n",
       "      <td>-0.345403</td>\n",
       "      <td>0.115526</td>\n",
       "      <td>0.037359</td>\n",
       "      <td>0.441325</td>\n",
       "      <td>1.000000</td>\n",
       "    </tr>\n",
       "  </tbody>\n",
       "</table>\n",
       "</div>"
      ],
      "text/plain": [
       "            var0      var1      Var2      var3      var4      var5      var6  \\\n",
       "var0    1.000000 -0.043595  0.310612  0.113845  0.090656 -0.020100  0.122949   \n",
       "var1   -0.043595  1.000000 -0.151242  0.103513 -0.005105 -0.088287  0.111127   \n",
       "Var2    0.310612 -0.151242  1.000000  0.037740  0.046724  0.089104  0.099397   \n",
       "var3    0.113845  0.103513  0.037740  1.000000  0.220064  0.348024  0.427588   \n",
       "var4    0.090656 -0.005105  0.046724  0.220064  1.000000  0.163222  0.368790   \n",
       "var5   -0.020100 -0.088287  0.089104  0.348024  0.163222  1.000000  0.613985   \n",
       "var6    0.122949  0.111127  0.099397  0.427588  0.368790  0.613985  1.000000   \n",
       "var7    0.276470  0.010752  0.106089  0.779294  0.502299  0.325797  0.567934   \n",
       "var8   -0.415853 -0.040198 -0.152966 -0.184145 -0.051775 -0.014189 -0.016702   \n",
       "var9   -0.009104 -0.023226  0.085754 -0.003464  0.095023  0.038061  0.146378   \n",
       "var10  -0.107499  0.029614 -0.039812 -0.441356 -0.566504 -0.272832 -0.483298   \n",
       "target -0.080753 -0.201873  0.022312 -0.074509 -0.319449  0.031212 -0.194248   \n",
       "\n",
       "            var7      var8      var9     var10    target  \n",
       "var0    0.276470 -0.415853 -0.009104 -0.107499 -0.080753  \n",
       "var1    0.010752 -0.040198 -0.023226  0.029614 -0.201873  \n",
       "Var2    0.106089 -0.152966  0.085754 -0.039812  0.022312  \n",
       "var3    0.779294 -0.184145 -0.003464 -0.441356 -0.074509  \n",
       "var4    0.502299 -0.051775  0.095023 -0.566504 -0.319449  \n",
       "var5    0.325797 -0.014189  0.038061 -0.272832  0.031212  \n",
       "var6    0.567934 -0.016702  0.146378 -0.483298 -0.194248  \n",
       "var7    1.000000 -0.116830  0.097417 -0.819171 -0.345403  \n",
       "var8   -0.116830  1.000000  0.139822  0.155667  0.115526  \n",
       "var9    0.097417  0.139822  1.000000 -0.048303  0.037359  \n",
       "var10  -0.819171  0.155667 -0.048303  1.000000  0.441325  \n",
       "target -0.345403  0.115526  0.037359  0.441325  1.000000  "
      ]
     },
     "execution_count": 14,
     "metadata": {},
     "output_type": "execute_result"
    }
   ],
   "source": [
    "# Spearman Correlation\n",
    "clean_data.corr(method = 'spearman')"
   ]
  },
  {
   "cell_type": "markdown",
   "metadata": {},
   "source": [
    "There are some strong correlations that are worth to be mentioned, i.e. var3 and var7(.779), var7 and var10(-.819); for target variable, there are strong correlations with var10 (.44) and var7 (-.34)."
   ]
  },
  {
   "cell_type": "markdown",
   "metadata": {},
   "source": [
    "###  Compare models to predict target variable"
   ]
  },
  {
   "cell_type": "markdown",
   "metadata": {},
   "source": [
    "The response variable 'target' is numeric type with discrete values over [3,9] then we can consider these values as levels, or factors.\n",
    "\n",
    "The models selected come from the Multi-class classification Models, i.e. **K-Nearest Neighbors, Decision Tree, Random Forest**.\n",
    "\n",
    "I decide to start my analysis with the model of **Random Forest** for the following reasons:\n",
    "- Many predictors and this model consider all of them through different conditions.\n",
    "- It captures no linear relationship between independent and response variables.\n",
    "- Scaling data is not needed.\n",
    "- Better estimations than decision tree model.\n",
    "\n",
    "However, there are some limitations:\n",
    "- Complex model: harder to explain and interpret results.\n",
    "- Not good for detailed insight."
   ]
  },
  {
   "cell_type": "code",
   "execution_count": 15,
   "metadata": {},
   "outputs": [],
   "source": [
    "# Separate columns: features and target\n",
    "features = clean_data.columns[:-1]\n",
    "target = clean_data.columns[-1]\n",
    "\n",
    "# Import train_test_split to split data\n",
    "from sklearn.model_selection import train_test_split\n",
    "\n",
    "# Set the seed\n",
    "seed= 42\n",
    "\n",
    "# Split data: train set (70%) and test set (30%)\n",
    "X_train, X_test, y_train, y_test = train_test_split(clean_data[features], clean_data[target], test_size=0.3, random_state = seed)"
   ]
  },
  {
   "cell_type": "code",
   "execution_count": 16,
   "metadata": {},
   "outputs": [
    {
     "name": "stdout",
     "output_type": "stream",
     "text": [
      "Test set accuracy: 0.62\n"
     ]
    },
    {
     "name": "stderr",
     "output_type": "stream",
     "text": [
      "C:\\ProgramData\\Anaconda3\\lib\\site-packages\\sklearn\\ensemble\\forest.py:245: FutureWarning: The default value of n_estimators will change from 10 in version 0.20 to 100 in 0.22.\n",
      "  \"10 in version 0.20 to 100 in 0.22.\", FutureWarning)\n"
     ]
    }
   ],
   "source": [
    "# Random Forest\n",
    "\n",
    "from sklearn.ensemble import RandomForestClassifier\n",
    "from sklearn.metrics import accuracy_score\n",
    "\n",
    "# rf Model\n",
    "rf = RandomForestClassifier(random_state = seed)\n",
    "\n",
    "# Training set\n",
    "rf.fit(X_train, y_train)\n",
    "\n",
    "# Prediction\n",
    "y_pred = rf.predict(X_test)\n",
    "\n",
    "# Model Performance: Accuracy\n",
    "acc = accuracy_score(y_test, y_pred)\n",
    "print(\"Test set accuracy: {:.2f}\".format(acc))"
   ]
  },
  {
   "cell_type": "code",
   "execution_count": 17,
   "metadata": {},
   "outputs": [
    {
     "name": "stderr",
     "output_type": "stream",
     "text": [
      "C:\\ProgramData\\Anaconda3\\lib\\site-packages\\sklearn\\model_selection\\_split.py:657: Warning: The least populated class in y has only 4 members, which is too few. The minimum number of members in any class cannot be less than n_splits=10.\n",
      "  % (min_groups, self.n_splits)), Warning)\n"
     ]
    },
    {
     "name": "stdout",
     "output_type": "stream",
     "text": [
      "Cross-validation accuracy: 0.66\n"
     ]
    }
   ],
   "source": [
    "# Cross-Validation (k = 10-fold)\n",
    "\n",
    "from sklearn.model_selection import cross_val_score\n",
    "\n",
    "# Cross Validation Model for Random Forest\n",
    "cv_rf = cross_val_score(rf, clean_data[features], clean_data[target], cv=10)\n",
    "\n",
    "# Accuracy of prediction\n",
    "mean_accuracy = cv_rf.mean()\n",
    "\n",
    "print(\"Cross-validation accuracy: {:.2f}\".format(mean_accuracy))"
   ]
  },
  {
   "cell_type": "code",
   "execution_count": 18,
   "metadata": {},
   "outputs": [
    {
     "data": {
      "text/plain": [
       "<matplotlib.axes._subplots.AxesSubplot at 0x2a77ffd6a48>"
      ]
     },
     "execution_count": 18,
     "metadata": {},
     "output_type": "execute_result"
    },
    {
     "data": {
      "image/png": "[encoded data removed]",
      "text/plain": [
       "<Figure size 432x288 with 1 Axes>"
      ]
     },
     "metadata": {
      "needs_background": "light"
     },
     "output_type": "display_data"
    }
   ],
   "source": [
    "# Variables importance in Random Forest Model\n",
    "importances_rf = pd.Series(rf.feature_importances_, index = clean_data[features].columns)\n",
    "\n",
    "# Sorting\n",
    "sorted_importances_rf = importances_rf.sort_values()\n",
    "\n",
    "# Plot\n",
    "sorted_importances_rf.plot(kind = 'barh')"
   ]
  },
  {
   "cell_type": "markdown",
   "metadata": {},
   "source": [
    "According to the Random Forest Model: var10, var7 y var1 are the main variables to estimate the value of target. The sum of their importances reached about 35%."
   ]
  },
  {
   "cell_type": "markdown",
   "metadata": {},
   "source": [
    "### Comparing performance with other models"
   ]
  },
  {
   "cell_type": "markdown",
   "metadata": {},
   "source": [
    "To evaluate performance of Random Forest, I will a make a comparison with other classification model such as Logistic Regression, K-Nearest Neighbors and Decision Tree.\n",
    "\n",
    "The metric of comparison will be the accuracy of predictions using the two model validation employed before: Spliting data and Cross-Validation. Additionally, due to the Bias-Variance problem, the variance of models will be evaluated with the metric Root Mean Square Error [RMSE]."
   ]
  },
  {
   "cell_type": "code",
   "execution_count": 19,
   "metadata": {},
   "outputs": [
    {
     "name": "stderr",
     "output_type": "stream",
     "text": [
      "C:\\ProgramData\\Anaconda3\\lib\\site-packages\\sklearn\\linear_model\\logistic.py:432: FutureWarning: Default solver will be changed to 'lbfgs' in 0.22. Specify a solver to silence this warning.\n",
      "  FutureWarning)\n",
      "C:\\ProgramData\\Anaconda3\\lib\\site-packages\\sklearn\\linear_model\\logistic.py:469: FutureWarning: Default multi_class will be changed to 'auto' in 0.22. Specify the multi_class option to silence this warning.\n",
      "  \"this warning.\", FutureWarning)\n"
     ]
    },
    {
     "name": "stdout",
     "output_type": "stream",
     "text": [
      "Logistic Regression : 0.514\n",
      "K-Nearest Neigbors : 0.446\n",
      "Classification Tree : 0.609\n",
      "Random Forest : 0.618\n"
     ]
    },
    {
     "name": "stderr",
     "output_type": "stream",
     "text": [
      "C:\\ProgramData\\Anaconda3\\lib\\site-packages\\sklearn\\ensemble\\forest.py:245: FutureWarning: The default value of n_estimators will change from 10 in version 0.20 to 100 in 0.22.\n",
      "  \"10 in version 0.20 to 100 in 0.22.\", FutureWarning)\n"
     ]
    }
   ],
   "source": [
    "# Comparing models: Split data (70% training, 30% test)\n",
    "\n",
    "from sklearn.model_selection import train_test_split\n",
    "from sklearn.metrics import accuracy_score\n",
    "\n",
    "from sklearn.linear_model import LogisticRegression\n",
    "from sklearn.tree import DecisionTreeClassifier\n",
    "from sklearn.neighbors import KNeighborsClassifier as KNN\n",
    "from sklearn.ensemble import RandomForestClassifier\n",
    "\n",
    "# Split data\n",
    "X_train, X_test, y_train, y_test = train_test_split(clean_data[features], clean_data[target], test_size=0.3, random_state=seed)\n",
    "\n",
    "# Models\n",
    "lr = LogisticRegression(random_state = seed)\n",
    "knn = KNN()\n",
    "dt = DecisionTreeClassifier(random_state = seed)\n",
    "rf = RandomForestClassifier(random_state = seed)\n",
    "\n",
    "classifiers = [('Logistic Regression', lr),\n",
    "               ('K-Nearest Neigbors', knn),\n",
    "               ('Classification Tree', dt),\n",
    "               ('Random Forest', rf)]\n",
    "\n",
    "# Evaluate each model\n",
    "for clf_name, clf in classifiers:\n",
    "    # training set\n",
    "    clf.fit(X_train, y_train)\n",
    "    # test set\n",
    "    y_pred = clf.predict(X_test)\n",
    "    # Models accuracy\n",
    "    print('{:s} : {:.3f}'.format(clf_name, accuracy_score(y_test, y_pred)))"
   ]
  },
  {
   "cell_type": "code",
   "execution_count": 20,
   "metadata": {},
   "outputs": [
    {
     "name": "stderr",
     "output_type": "stream",
     "text": [
      "C:\\ProgramData\\Anaconda3\\lib\\site-packages\\sklearn\\model_selection\\_split.py:657: Warning: The least populated class in y has only 4 members, which is too few. The minimum number of members in any class cannot be less than n_splits=10.\n",
      "  % (min_groups, self.n_splits)), Warning)\n",
      "C:\\ProgramData\\Anaconda3\\lib\\site-packages\\sklearn\\linear_model\\logistic.py:432: FutureWarning: Default solver will be changed to 'lbfgs' in 0.22. Specify a solver to silence this warning.\n",
      "  FutureWarning)\n",
      "C:\\ProgramData\\Anaconda3\\lib\\site-packages\\sklearn\\linear_model\\logistic.py:469: FutureWarning: Default multi_class will be changed to 'auto' in 0.22. Specify the multi_class option to silence this warning.\n",
      "  \"this warning.\", FutureWarning)\n",
      "C:\\ProgramData\\Anaconda3\\lib\\site-packages\\sklearn\\linear_model\\logistic.py:432: FutureWarning: Default solver will be changed to 'lbfgs' in 0.22. Specify a solver to silence this warning.\n",
      "  FutureWarning)\n",
      "C:\\ProgramData\\Anaconda3\\lib\\site-packages\\sklearn\\linear_model\\logistic.py:469: FutureWarning: Default multi_class will be changed to 'auto' in 0.22. Specify the multi_class option to silence this warning.\n",
      "  \"this warning.\", FutureWarning)\n",
      "C:\\ProgramData\\Anaconda3\\lib\\site-packages\\sklearn\\linear_model\\logistic.py:432: FutureWarning: Default solver will be changed to 'lbfgs' in 0.22. Specify a solver to silence this warning.\n",
      "  FutureWarning)\n",
      "C:\\ProgramData\\Anaconda3\\lib\\site-packages\\sklearn\\linear_model\\logistic.py:469: FutureWarning: Default multi_class will be changed to 'auto' in 0.22. Specify the multi_class option to silence this warning.\n",
      "  \"this warning.\", FutureWarning)\n",
      "C:\\ProgramData\\Anaconda3\\lib\\site-packages\\sklearn\\linear_model\\logistic.py:432: FutureWarning: Default solver will be changed to 'lbfgs' in 0.22. Specify a solver to silence this warning.\n",
      "  FutureWarning)\n",
      "C:\\ProgramData\\Anaconda3\\lib\\site-packages\\sklearn\\linear_model\\logistic.py:469: FutureWarning: Default multi_class will be changed to 'auto' in 0.22. Specify the multi_class option to silence this warning.\n",
      "  \"this warning.\", FutureWarning)\n",
      "C:\\ProgramData\\Anaconda3\\lib\\site-packages\\sklearn\\linear_model\\logistic.py:432: FutureWarning: Default solver will be changed to 'lbfgs' in 0.22. Specify a solver to silence this warning.\n",
      "  FutureWarning)\n",
      "C:\\ProgramData\\Anaconda3\\lib\\site-packages\\sklearn\\linear_model\\logistic.py:469: FutureWarning: Default multi_class will be changed to 'auto' in 0.22. Specify the multi_class option to silence this warning.\n",
      "  \"this warning.\", FutureWarning)\n",
      "C:\\ProgramData\\Anaconda3\\lib\\site-packages\\sklearn\\linear_model\\logistic.py:432: FutureWarning: Default solver will be changed to 'lbfgs' in 0.22. Specify a solver to silence this warning.\n",
      "  FutureWarning)\n",
      "C:\\ProgramData\\Anaconda3\\lib\\site-packages\\sklearn\\linear_model\\logistic.py:469: FutureWarning: Default multi_class will be changed to 'auto' in 0.22. Specify the multi_class option to silence this warning.\n",
      "  \"this warning.\", FutureWarning)\n",
      "C:\\ProgramData\\Anaconda3\\lib\\site-packages\\sklearn\\linear_model\\logistic.py:432: FutureWarning: Default solver will be changed to 'lbfgs' in 0.22. Specify a solver to silence this warning.\n",
      "  FutureWarning)\n",
      "C:\\ProgramData\\Anaconda3\\lib\\site-packages\\sklearn\\linear_model\\logistic.py:469: FutureWarning: Default multi_class will be changed to 'auto' in 0.22. Specify the multi_class option to silence this warning.\n",
      "  \"this warning.\", FutureWarning)\n",
      "C:\\ProgramData\\Anaconda3\\lib\\site-packages\\sklearn\\linear_model\\logistic.py:432: FutureWarning: Default solver will be changed to 'lbfgs' in 0.22. Specify a solver to silence this warning.\n",
      "  FutureWarning)\n",
      "C:\\ProgramData\\Anaconda3\\lib\\site-packages\\sklearn\\linear_model\\logistic.py:469: FutureWarning: Default multi_class will be changed to 'auto' in 0.22. Specify the multi_class option to silence this warning.\n",
      "  \"this warning.\", FutureWarning)\n",
      "C:\\ProgramData\\Anaconda3\\lib\\site-packages\\sklearn\\linear_model\\logistic.py:432: FutureWarning: Default solver will be changed to 'lbfgs' in 0.22. Specify a solver to silence this warning.\n",
      "  FutureWarning)\n",
      "C:\\ProgramData\\Anaconda3\\lib\\site-packages\\sklearn\\linear_model\\logistic.py:469: FutureWarning: Default multi_class will be changed to 'auto' in 0.22. Specify the multi_class option to silence this warning.\n",
      "  \"this warning.\", FutureWarning)\n",
      "C:\\ProgramData\\Anaconda3\\lib\\site-packages\\sklearn\\linear_model\\logistic.py:432: FutureWarning: Default solver will be changed to 'lbfgs' in 0.22. Specify a solver to silence this warning.\n",
      "  FutureWarning)\n",
      "C:\\ProgramData\\Anaconda3\\lib\\site-packages\\sklearn\\linear_model\\logistic.py:469: FutureWarning: Default multi_class will be changed to 'auto' in 0.22. Specify the multi_class option to silence this warning.\n",
      "  \"this warning.\", FutureWarning)\n",
      "C:\\ProgramData\\Anaconda3\\lib\\site-packages\\sklearn\\model_selection\\_split.py:657: Warning: The least populated class in y has only 4 members, which is too few. The minimum number of members in any class cannot be less than n_splits=10.\n",
      "  % (min_groups, self.n_splits)), Warning)\n",
      "C:\\ProgramData\\Anaconda3\\lib\\site-packages\\sklearn\\model_selection\\_split.py:657: Warning: The least populated class in y has only 4 members, which is too few. The minimum number of members in any class cannot be less than n_splits=10.\n",
      "  % (min_groups, self.n_splits)), Warning)\n",
      "C:\\ProgramData\\Anaconda3\\lib\\site-packages\\sklearn\\model_selection\\_split.py:657: Warning: The least populated class in y has only 4 members, which is too few. The minimum number of members in any class cannot be less than n_splits=10.\n",
      "  % (min_groups, self.n_splits)), Warning)\n"
     ]
    },
    {
     "name": "stdout",
     "output_type": "stream",
     "text": [
      "CV Logistic Regression : 0.528\n",
      "CV K-Nearest Neigbors : 0.477\n",
      "CV Classification Tree : 0.586\n",
      "CV Random Forest : 0.657\n"
     ]
    }
   ],
   "source": [
    "# Comparing models: Cross-Validation (10-fold)\n",
    "\n",
    "from sklearn.model_selection import cross_val_score\n",
    "\n",
    "# Cross Validation Models\n",
    "cv_lr = cross_val_score(lr, clean_data[features], clean_data[target], cv=10) \n",
    "cv_knn = cross_val_score(knn, clean_data[features], clean_data[target], cv=10) \n",
    "cv_dt = cross_val_score(dt, clean_data[features], clean_data[target], cv=10) \n",
    "cv_rf = cross_val_score(rf, clean_data[features], clean_data[target], cv=10) \n",
    "\n",
    "CVs = [('CV Logistic Regression', cv_lr),\n",
    "               ('CV K-Nearest Neigbors', cv_knn),\n",
    "               ('CV Classification Tree', cv_dt),\n",
    "               ('CV Random Forest', cv_rf)]\n",
    "\n",
    "# Evaluate each model\n",
    "for clf_name, cv_scores in CVs:\n",
    "    # accuracy\n",
    "    mean_accuracy = cv_scores.mean()\n",
    "    # Models accuracy\n",
    "    print('{:s} : {:.3f}'.format(clf_name, mean_accuracy))"
   ]
  },
  {
   "cell_type": "code",
   "execution_count": 21,
   "metadata": {},
   "outputs": [
    {
     "name": "stdout",
     "output_type": "stream",
     "text": [
      "RMSE Logistic Regression : 0.83\n"
     ]
    },
    {
     "name": "stderr",
     "output_type": "stream",
     "text": [
      "C:\\ProgramData\\Anaconda3\\lib\\site-packages\\sklearn\\linear_model\\logistic.py:432: FutureWarning: Default solver will be changed to 'lbfgs' in 0.22. Specify a solver to silence this warning.\n",
      "  FutureWarning)\n",
      "C:\\ProgramData\\Anaconda3\\lib\\site-packages\\sklearn\\linear_model\\logistic.py:469: FutureWarning: Default multi_class will be changed to 'auto' in 0.22. Specify the multi_class option to silence this warning.\n",
      "  \"this warning.\", FutureWarning)\n"
     ]
    },
    {
     "name": "stdout",
     "output_type": "stream",
     "text": [
      "RMSE K-Nearest Neigbors : 0.98\n",
      "RMSE Classification Tree : 0.85\n",
      "RMSE Random Forest : 0.76\n"
     ]
    },
    {
     "name": "stderr",
     "output_type": "stream",
     "text": [
      "C:\\ProgramData\\Anaconda3\\lib\\site-packages\\sklearn\\ensemble\\forest.py:245: FutureWarning: The default value of n_estimators will change from 10 in version 0.20 to 100 in 0.22.\n",
      "  \"10 in version 0.20 to 100 in 0.22.\", FutureWarning)\n"
     ]
    }
   ],
   "source": [
    "# Comparing models: Variance (RMSE)\n",
    "\n",
    "from sklearn.metrics import mean_squared_error as MSE\n",
    "\n",
    "# Split data into 70% train and 30% test\n",
    "X_train, X_test, y_train, y_test = train_test_split(clean_data[features], clean_data[target], test_size=0.3, random_state=seed)\n",
    "\n",
    "# Models\n",
    "lr = LogisticRegression(random_state = seed)\n",
    "knn = KNN()\n",
    "dt = DecisionTreeClassifier(random_state = seed)\n",
    "rf = RandomForestClassifier(random_state = seed)\n",
    "\n",
    "mse_classifiers = [('RMSE Logistic Regression', lr),\n",
    "               ('RMSE K-Nearest Neigbors', knn),\n",
    "               ('RMSE Classification Tree', dt),\n",
    "               ('RMSE Random Forest', rf)]\n",
    "\n",
    "# Evaluate each models\n",
    "for clf_name, clf in mse_classifiers:\n",
    "    # training set\n",
    "    clf.fit(X_train, y_train)\n",
    "    # test set\n",
    "    y_pred = clf.predict(X_test)\n",
    "    # Models RMSE\n",
    "    rmse_test = MSE(y_test, y_pred)**(1/2)\n",
    "    print('{:s} : {:.2f}'.format(clf_name, rmse_test))"
   ]
  },
  {
   "cell_type": "markdown",
   "metadata": {},
   "source": [
    "**Random Forest is a powerful classification model with great advantages for the data set analyzed.**\n",
    "\n",
    "**Performance:** \n",
    "- The model accuracy reached **62%** in the test set using the splitting data method and **66%** employing cross-validation, thereby the random forest performance was better compared to other models. \n",
    "- By estimating the 'Generalization Error' of the model through the metric RMSE, the variance found was **0.76** which is lower than the variance of other models. This result indicates that there are no large differences in error between the results obtained from the training and the test set."
   ]
  }
 ],
 "metadata": {
  "kernelspec": {
   "display_name": "Python 3",
   "language": "python",
   "name": "python3"
  },
  "language_info": {
   "codemirror_mode": {
    "name": "ipython",
    "version": 3
   },
   "file_extension": ".py",
   "mimetype": "text/x-python",
   "name": "python",
   "nbconvert_exporter": "python",
   "pygments_lexer": "ipython3",
   "version": "3.7.4"
  }
 },
 "nbformat": 4,
 "nbformat_minor": 2
}
